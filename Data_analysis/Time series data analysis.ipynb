{
 "cells": [
  {
   "cell_type": "code",
   "execution_count": 1,
   "metadata": {},
   "outputs": [],
   "source": [
    "# time series analysis"
   ]
  },
  {
   "cell_type": "code",
   "execution_count": 2,
   "metadata": {},
   "outputs": [],
   "source": [
    "# 위키피디아 조회수 예측 예제\n",
    "# 1. 위키피디아 페이지의 일일 조회수 데이터를 내려받습니다.\n",
    "# 2. 데이터를 보면 이상치가 있습니다. 상위 5% 백분위보다 높은 조회수는 5% 백분위 값으로 대체합니다.\n",
    "# 3. 요일이 조회수에 미치는 영향이 있을 거라는 가설을 세웠습니다. 즉, 조회수가 일주일을 주기로 하는 주기성을 가진다는 가설\n",
    "# 4. 길이가 일주일인 윈도우를 만들고 이 윈도우를 적용해 특징값을 추출합니다. 이 값을 이용해 다음 일주일 동안 조회수를 예측하는 회귀모델을 학습"
   ]
  },
  {
   "cell_type": "code",
   "execution_count": 3,
   "metadata": {},
   "outputs": [],
   "source": [
    "import urllib, json\n",
    "import pandas as pd\n",
    "import numpy as np\n",
    "import sklearn.linear_model, statsmodels.api as sm\n",
    "import matplotlib.pyplot as plt"
   ]
  },
  {
   "cell_type": "code",
   "execution_count": 4,
   "metadata": {},
   "outputs": [],
   "source": [
    "START_DATE = \"20131010\"\n",
    "END_DATE = \"20161012\"\n",
    "WINDOW_SIZE = 7\n",
    "TOPIC = \"Cat\"\n",
    "URL_TEMPLATE = (\"https://wikimedia.org/api/rest_v1\"\n",
    "               \"/metrics/pageviews/per-article\"\n",
    "               \"/en.wikipedia/all-access/\"\n",
    "               \"allagents/%s/daily/%s/%s\")"
   ]
  },
  {
   "cell_type": "code",
   "execution_count": 5,
   "metadata": {},
   "outputs": [],
   "source": [
    "# 조회수를 불러오는 함수\n",
    "def get_time_series(topic, start, end):\n",
    "    url = URL_TEMPLATE % (topic, start, end)\n",
    "    json_data = urllib.request.urlopen(url).read().decode('utf-8')\n",
    "    data = json.loads(json_data)\n",
    "    times = [rec['timestamp'] for rec in data['items']]\n",
    "    values = [rec['views'] for rec in data['items']]\n",
    "    times_formatted = pd.Series(times).map(\n",
    "        lambda x: x[:4] + '-' + x[4:6] + '-' + x[6:8])\n",
    "    time_index = times_formatted.astype('datetime64')\n",
    "    return pd.DataFrame(\n",
    "        {'views': values}, index=time_index)\n"
   ]
  },
  {
   "cell_type": "code",
   "execution_count": null,
   "metadata": {},
   "outputs": [],
   "source": []
  }
 ],
 "metadata": {
  "kernelspec": {
   "display_name": "Python 3",
   "language": "python",
   "name": "python3"
  },
  "language_info": {
   "codemirror_mode": {
    "name": "ipython",
    "version": 3
   },
   "file_extension": ".py",
   "mimetype": "text/x-python",
   "name": "python",
   "nbconvert_exporter": "python",
   "pygments_lexer": "ipython3",
   "version": "3.6.5"
  }
 },
 "nbformat": 4,
 "nbformat_minor": 2
}
