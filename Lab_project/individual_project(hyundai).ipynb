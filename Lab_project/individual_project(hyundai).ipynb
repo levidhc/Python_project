{
 "cells": [
  {
   "cell_type": "code",
   "execution_count": 25,
   "metadata": {
    "collapsed": true
   },
   "outputs": [],
   "source": [
    "import pandas as pd\n",
    "from antQuant.utils import DataManager"
   ]
  },
  {
   "cell_type": "code",
   "execution_count": 26,
   "metadata": {
    "collapsed": true
   },
   "outputs": [],
   "source": [
    "hyundai = DataManager()\n",
    "hyundai_stock = hyundai.get_daily_ohlcv('005380')"
   ]
  },
  {
   "cell_type": "code",
   "execution_count": 27,
   "metadata": {
    "collapsed": false
   },
   "outputs": [
    {
     "data": {
      "text/plain": [
       "6845"
      ]
     },
     "execution_count": 27,
     "metadata": {},
     "output_type": "execute_result"
    }
   ],
   "source": [
    "hyundai_stock.index.get_loc('2016-01-04')"
   ]
  },
  {
   "cell_type": "code",
   "execution_count": 28,
   "metadata": {
    "collapsed": false
   },
   "outputs": [],
   "source": [
    "hyundai_stock = hyundai_stock[hyundai_stock.index.get_loc('2016-01-04'):]"
   ]
  },
  {
   "cell_type": "code",
   "execution_count": 29,
   "metadata": {
    "collapsed": false
   },
   "outputs": [],
   "source": [
    "samsung = pd.read_excel('datalab_samsung.xlsx', skiprows=6)\n",
    "samsungbio = pd.read_excel('datalab_samsungbio.xlsx',skiprows=6)\n",
    "hynix = pd.read_excel('datalab_skhynix.xlsx',skiprows=6)\n",
    "celltrion = pd.read_excel('datalab_celltrion.xlsx',skiprows=6)\n",
    "hyundai = pd.read_excel('datalab_hyundai.xlsx',skiprows=6)"
   ]
  },
  {
   "cell_type": "code",
   "execution_count": 30,
   "metadata": {
    "collapsed": true
   },
   "outputs": [],
   "source": [
    "for df in [samsung, samsungbio, hynix, celltrion, hyundai]:\n",
    "    df.columns = ['date', 'search']\n",
    "    df.date = pd.to_datetime(df.date)"
   ]
  },
  {
   "cell_type": "code",
   "execution_count": 31,
   "metadata": {
    "collapsed": false
   },
   "outputs": [],
   "source": [
    "hyundai = hyundai.set_index('date')"
   ]
  },
  {
   "cell_type": "code",
   "execution_count": 32,
   "metadata": {
    "collapsed": true
   },
   "outputs": [],
   "source": [
    "hyundai = hyundai.shift(1)"
   ]
  },
  {
   "cell_type": "code",
   "execution_count": 33,
   "metadata": {
    "collapsed": false,
    "scrolled": true
   },
   "outputs": [],
   "source": [
    "all_set = pd.concat([hyundai, hyundai_stock], axis=1)"
   ]
  },
  {
   "cell_type": "code",
   "execution_count": 34,
   "metadata": {
    "collapsed": false,
    "scrolled": true
   },
   "outputs": [],
   "source": [
    "all_set = all_set.dropna(axis=0)"
   ]
  },
  {
   "cell_type": "code",
   "execution_count": 35,
   "metadata": {
    "collapsed": true
   },
   "outputs": [],
   "source": [
    "import math"
   ]
  },
  {
   "cell_type": "code",
   "execution_count": 36,
   "metadata": {
    "collapsed": true
   },
   "outputs": [],
   "source": [
    "log_close = []\n",
    "for i in range(len(all_set.index)):\n",
    "    a = math.log(all_set['close'][i])\n",
    "    log_close.append(a)"
   ]
  },
  {
   "cell_type": "code",
   "execution_count": 37,
   "metadata": {
    "collapsed": false
   },
   "outputs": [],
   "source": [
    "all_set['log_close']=log_close"
   ]
  },
  {
   "cell_type": "code",
   "execution_count": 38,
   "metadata": {
    "collapsed": true
   },
   "outputs": [],
   "source": [
    "all_set['log_close_diff'] = all_set['log_close'].diff()"
   ]
  },
  {
   "cell_type": "code",
   "execution_count": 39,
   "metadata": {
    "collapsed": true
   },
   "outputs": [],
   "source": [
    "all_set = all_set[1:]"
   ]
  },
  {
   "cell_type": "code",
   "execution_count": 40,
   "metadata": {
    "collapsed": true
   },
   "outputs": [],
   "source": [
    "import matplotlib.pyplot as plt"
   ]
  },
  {
   "cell_type": "code",
   "execution_count": 41,
   "metadata": {
    "collapsed": true
   },
   "outputs": [],
   "source": [
    "all_set = pd.DataFrame(all_set)"
   ]
  },
  {
   "cell_type": "code",
   "execution_count": 42,
   "metadata": {
    "collapsed": false,
    "scrolled": false
   },
   "outputs": [],
   "source": [
    "from sklearn.preprocessing import StandardScaler\n",
    "stdscaler = StandardScaler()\n",
    "x_search = all_set[['search']].values.astype(float)\n",
    "std_search = stdscaler.fit_transform(x_search)"
   ]
  },
  {
   "cell_type": "code",
   "execution_count": 43,
   "metadata": {
    "collapsed": true
   },
   "outputs": [],
   "source": [
    "norm_log_close_diff = all_set[['log_close_diff']].values.astype(float)\n",
    "norm_log_close_diff = stdscaler.fit_transform(norm_log_close_diff)"
   ]
  },
  {
   "cell_type": "code",
   "execution_count": 44,
   "metadata": {
    "collapsed": true
   },
   "outputs": [],
   "source": [
    "all_set['std_search'] = std_search\n",
    "all_set['norm_log_close_diff'] = norm_log_close_diff"
   ]
  },
  {
   "cell_type": "code",
   "execution_count": 45,
   "metadata": {
    "collapsed": false
   },
   "outputs": [
    {
     "data": {
      "text/plain": [
       "<matplotlib.legend.Legend at 0x1a152c0c88>"
      ]
     },
     "execution_count": 45,
     "metadata": {},
     "output_type": "execute_result"
    }
   ],
   "source": [
    "all_set['std_search'].plot()\n",
    "all_set['norm_log_close_diff'].plot()\n",
    "plt.legend(['std_search', 'norm_log_close_diff'])"
   ]
  },
  {
   "cell_type": "code",
   "execution_count": 46,
   "metadata": {
    "collapsed": false
   },
   "outputs": [
    {
     "data": {
      "image/png": "[encoded data removed]",
      "text/plain": [
       "<matplotlib.figure.Figure at 0x1a152f85f8>"
      ]
     },
     "metadata": {},
     "output_type": "display_data"
    }
   ],
   "source": [
    "plt.show()"
   ]
  },
  {
   "cell_type": "code",
   "execution_count": 47,
   "metadata": {
    "collapsed": false
   },
   "outputs": [
    {
     "data": {
      "text/plain": [
       "(-0.06307676119572432, 0.1399338879529264)"
      ]
     },
     "execution_count": 47,
     "metadata": {},
     "output_type": "execute_result"
    }
   ],
   "source": [
    "from scipy.stats import pearsonr\n",
    "pearsonr(all_set['std_search'], all_set['norm_log_close_diff'])"
   ]
  },
  {
   "cell_type": "code",
   "execution_count": 48,
   "metadata": {
    "collapsed": false
   },
   "outputs": [
    {
     "data": {
      "text/html": [
       "<div>\n",
       "<style scoped>\n",
       "    .dataframe tbody tr th:only-of-type {\n",
       "        vertical-align: middle;\n",
       "    }\n",
       "\n",
       "    .dataframe tbody tr th {\n",
       "        vertical-align: top;\n",
       "    }\n",
       "\n",
       "    .dataframe thead th {\n",
       "        text-align: right;\n",
       "    }\n",
       "</style>\n",
       "<table border=\"1\" class=\"dataframe\">\n",
       "  <thead>\n",
       "    <tr style=\"text-align: right;\">\n",
       "      <th></th>\n",
       "      <th>search</th>\n",
       "      <th>open</th>\n",
       "      <th>high</th>\n",
       "      <th>low</th>\n",
       "      <th>close</th>\n",
       "      <th>volume</th>\n",
       "      <th>adj_ratio</th>\n",
       "      <th>log_close</th>\n",
       "      <th>log_close_diff</th>\n",
       "      <th>std_search</th>\n",
       "      <th>norm_log_close_diff</th>\n",
       "    </tr>\n",
       "  </thead>\n",
       "  <tbody>\n",
       "    <tr>\n",
       "      <th>search</th>\n",
       "      <td>1.000000</td>\n",
       "      <td>0.045656</td>\n",
       "      <td>0.047275</td>\n",
       "      <td>0.031790</td>\n",
       "      <td>0.033993</td>\n",
       "      <td>0.120973</td>\n",
       "      <td>NaN</td>\n",
       "      <td>0.033350</td>\n",
       "      <td>-0.063077</td>\n",
       "      <td>1.000000</td>\n",
       "      <td>-0.063077</td>\n",
       "    </tr>\n",
       "    <tr>\n",
       "      <th>open</th>\n",
       "      <td>0.045656</td>\n",
       "      <td>1.000000</td>\n",
       "      <td>0.987113</td>\n",
       "      <td>0.988982</td>\n",
       "      <td>0.972236</td>\n",
       "      <td>0.040512</td>\n",
       "      <td>NaN</td>\n",
       "      <td>0.972086</td>\n",
       "      <td>-0.080573</td>\n",
       "      <td>0.045656</td>\n",
       "      <td>-0.080573</td>\n",
       "    </tr>\n",
       "    <tr>\n",
       "      <th>high</th>\n",
       "      <td>0.047275</td>\n",
       "      <td>0.987113</td>\n",
       "      <td>1.000000</td>\n",
       "      <td>0.988340</td>\n",
       "      <td>0.990533</td>\n",
       "      <td>0.096128</td>\n",
       "      <td>NaN</td>\n",
       "      <td>0.989721</td>\n",
       "      <td>0.034174</td>\n",
       "      <td>0.047275</td>\n",
       "      <td>0.034174</td>\n",
       "    </tr>\n",
       "    <tr>\n",
       "      <th>low</th>\n",
       "      <td>0.031790</td>\n",
       "      <td>0.988982</td>\n",
       "      <td>0.988340</td>\n",
       "      <td>1.000000</td>\n",
       "      <td>0.986968</td>\n",
       "      <td>-0.001531</td>\n",
       "      <td>NaN</td>\n",
       "      <td>0.986760</td>\n",
       "      <td>0.018286</td>\n",
       "      <td>0.031790</td>\n",
       "      <td>0.018286</td>\n",
       "    </tr>\n",
       "    <tr>\n",
       "      <th>close</th>\n",
       "      <td>0.033993</td>\n",
       "      <td>0.972236</td>\n",
       "      <td>0.990533</td>\n",
       "      <td>0.986968</td>\n",
       "      <td>1.000000</td>\n",
       "      <td>0.062198</td>\n",
       "      <td>NaN</td>\n",
       "      <td>0.999445</td>\n",
       "      <td>0.132437</td>\n",
       "      <td>0.033993</td>\n",
       "      <td>0.132437</td>\n",
       "    </tr>\n",
       "    <tr>\n",
       "      <th>volume</th>\n",
       "      <td>0.120973</td>\n",
       "      <td>0.040512</td>\n",
       "      <td>0.096128</td>\n",
       "      <td>-0.001531</td>\n",
       "      <td>0.062198</td>\n",
       "      <td>1.000000</td>\n",
       "      <td>NaN</td>\n",
       "      <td>0.056801</td>\n",
       "      <td>0.066585</td>\n",
       "      <td>0.120973</td>\n",
       "      <td>0.066585</td>\n",
       "    </tr>\n",
       "    <tr>\n",
       "      <th>adj_ratio</th>\n",
       "      <td>NaN</td>\n",
       "      <td>NaN</td>\n",
       "      <td>NaN</td>\n",
       "      <td>NaN</td>\n",
       "      <td>NaN</td>\n",
       "      <td>NaN</td>\n",
       "      <td>NaN</td>\n",
       "      <td>NaN</td>\n",
       "      <td>NaN</td>\n",
       "      <td>NaN</td>\n",
       "      <td>NaN</td>\n",
       "    </tr>\n",
       "    <tr>\n",
       "      <th>log_close</th>\n",
       "      <td>0.033350</td>\n",
       "      <td>0.972086</td>\n",
       "      <td>0.989721</td>\n",
       "      <td>0.986760</td>\n",
       "      <td>0.999445</td>\n",
       "      <td>0.056801</td>\n",
       "      <td>NaN</td>\n",
       "      <td>1.000000</td>\n",
       "      <td>0.131149</td>\n",
       "      <td>0.033350</td>\n",
       "      <td>0.131149</td>\n",
       "    </tr>\n",
       "    <tr>\n",
       "      <th>log_close_diff</th>\n",
       "      <td>-0.063077</td>\n",
       "      <td>-0.080573</td>\n",
       "      <td>0.034174</td>\n",
       "      <td>0.018286</td>\n",
       "      <td>0.132437</td>\n",
       "      <td>0.066585</td>\n",
       "      <td>NaN</td>\n",
       "      <td>0.131149</td>\n",
       "      <td>1.000000</td>\n",
       "      <td>-0.063077</td>\n",
       "      <td>1.000000</td>\n",
       "    </tr>\n",
       "    <tr>\n",
       "      <th>std_search</th>\n",
       "      <td>1.000000</td>\n",
       "      <td>0.045656</td>\n",
       "      <td>0.047275</td>\n",
       "      <td>0.031790</td>\n",
       "      <td>0.033993</td>\n",
       "      <td>0.120973</td>\n",
       "      <td>NaN</td>\n",
       "      <td>0.033350</td>\n",
       "      <td>-0.063077</td>\n",
       "      <td>1.000000</td>\n",
       "      <td>-0.063077</td>\n",
       "    </tr>\n",
       "    <tr>\n",
       "      <th>norm_log_close_diff</th>\n",
       "      <td>-0.063077</td>\n",
       "      <td>-0.080573</td>\n",
       "      <td>0.034174</td>\n",
       "      <td>0.018286</td>\n",
       "      <td>0.132437</td>\n",
       "      <td>0.066585</td>\n",
       "      <td>NaN</td>\n",
       "      <td>0.131149</td>\n",
       "      <td>1.000000</td>\n",
       "      <td>-0.063077</td>\n",
       "      <td>1.000000</td>\n",
       "    </tr>\n",
       "  </tbody>\n",
       "</table>\n",
       "</div>"
      ],
      "text/plain": [
       "                       search      open      high       low     close  \\\n",
       "search               1.000000  0.045656  0.047275  0.031790  0.033993   \n",
       "open                 0.045656  1.000000  0.987113  0.988982  0.972236   \n",
       "high                 0.047275  0.987113  1.000000  0.988340  0.990533   \n",
       "low                  0.031790  0.988982  0.988340  1.000000  0.986968   \n",
       "close                0.033993  0.972236  0.990533  0.986968  1.000000   \n",
       "volume               0.120973  0.040512  0.096128 -0.001531  0.062198   \n",
       "adj_ratio                 NaN       NaN       NaN       NaN       NaN   \n",
       "log_close            0.033350  0.972086  0.989721  0.986760  0.999445   \n",
       "log_close_diff      -0.063077 -0.080573  0.034174  0.018286  0.132437   \n",
       "std_search           1.000000  0.045656  0.047275  0.031790  0.033993   \n",
       "norm_log_close_diff -0.063077 -0.080573  0.034174  0.018286  0.132437   \n",
       "\n",
       "                       volume  adj_ratio  log_close  log_close_diff  \\\n",
       "search               0.120973        NaN   0.033350       -0.063077   \n",
       "open                 0.040512        NaN   0.972086       -0.080573   \n",
       "high                 0.096128        NaN   0.989721        0.034174   \n",
       "low                 -0.001531        NaN   0.986760        0.018286   \n",
       "close                0.062198        NaN   0.999445        0.132437   \n",
       "volume               1.000000        NaN   0.056801        0.066585   \n",
       "adj_ratio                 NaN        NaN        NaN             NaN   \n",
       "log_close            0.056801        NaN   1.000000        0.131149   \n",
       "log_close_diff       0.066585        NaN   0.131149        1.000000   \n",
       "std_search           0.120973        NaN   0.033350       -0.063077   \n",
       "norm_log_close_diff  0.066585        NaN   0.131149        1.000000   \n",
       "\n",
       "                     std_search  norm_log_close_diff  \n",
       "search                 1.000000            -0.063077  \n",
       "open                   0.045656            -0.080573  \n",
       "high                   0.047275             0.034174  \n",
       "low                    0.031790             0.018286  \n",
       "close                  0.033993             0.132437  \n",
       "volume                 0.120973             0.066585  \n",
       "adj_ratio                   NaN                  NaN  \n",
       "log_close              0.033350             0.131149  \n",
       "log_close_diff        -0.063077             1.000000  \n",
       "std_search             1.000000            -0.063077  \n",
       "norm_log_close_diff   -0.063077             1.000000  "
      ]
     },
     "execution_count": 48,
     "metadata": {},
     "output_type": "execute_result"
    }
   ],
   "source": [
    "all_set.corr()"
   ]
  },
  {
   "cell_type": "code",
   "execution_count": null,
   "metadata": {
    "collapsed": true
   },
   "outputs": [],
   "source": [
    ""
   ]
  },
  {
   "cell_type": "code",
   "execution_count": null,
   "metadata": {
    "collapsed": true
   },
   "outputs": [],
   "source": [
    ""
   ]
  }
 ],
 "metadata": {
  "anaconda-cloud": {},
  "kernelspec": {
   "display_name": "Python [conda root]",
   "language": "python",
   "name": "conda-root-py"
  },
  "language_info": {
   "codemirror_mode": {
    "name": "ipython",
    "version": 3.0
   },
   "file_extension": ".py",
   "mimetype": "text/x-python",
   "name": "python",
   "nbconvert_exporter": "python",
   "pygments_lexer": "ipython3",
   "version": "3.5.2"
  }
 },
 "nbformat": 4,
 "nbformat_minor": 0
}