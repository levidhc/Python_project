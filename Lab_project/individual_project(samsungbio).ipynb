{
 "cells": [
  {
   "cell_type": "code",
   "execution_count": 32,
   "metadata": {
    "collapsed": true
   },
   "outputs": [],
   "source": [
    "import pandas as pd\n",
    "from antQuant.utils import DataManager"
   ]
  },
  {
   "cell_type": "code",
   "execution_count": 33,
   "metadata": {
    "collapsed": true
   },
   "outputs": [],
   "source": [
    "samsungbio = DataManager()\n",
    "samsungbio_stock = samsungbio.get_daily_ohlcv('207940')"
   ]
  },
  {
   "cell_type": "code",
   "execution_count": 36,
   "metadata": {
    "collapsed": false
   },
   "outputs": [
    {
     "data": {
      "text/plain": [
       "0"
      ]
     },
     "execution_count": 36,
     "metadata": {},
     "output_type": "execute_result"
    }
   ],
   "source": [
    "samsungbio_stock.index.get_loc('2016-11-10')"
   ]
  },
  {
   "cell_type": "code",
   "execution_count": 37,
   "metadata": {
    "collapsed": false
   },
   "outputs": [],
   "source": [
    "samsungbio_stock = samsungbio_stock[samsungbio_stock.index.get_loc('2016-11-10'):]"
   ]
  },
  {
   "cell_type": "code",
   "execution_count": 38,
   "metadata": {
    "collapsed": false
   },
   "outputs": [],
   "source": [
    "samsung = pd.read_excel('datalab_samsung.xlsx', skiprows=6)\n",
    "samsungbio = pd.read_excel('datalab_samsungbio.xlsx',skiprows=6)\n",
    "hynix = pd.read_excel('datalab_skhynix.xlsx',skiprows=6)\n",
    "celltrion = pd.read_excel('datalab_celltrion.xlsx',skiprows=6)\n",
    "hyundai = pd.read_excel('datalab_hyundai.xlsx',skiprows=6)"
   ]
  },
  {
   "cell_type": "code",
   "execution_count": 39,
   "metadata": {
    "collapsed": true
   },
   "outputs": [],
   "source": [
    "for df in [samsung, samsungbio, hynix, celltrion, hyundai]:\n",
    "    df.columns = ['date', 'search']\n",
    "    df.date = pd.to_datetime(df.date)"
   ]
  },
  {
   "cell_type": "code",
   "execution_count": 40,
   "metadata": {
    "collapsed": false
   },
   "outputs": [],
   "source": [
    "samsungbio = samsungbio.set_index('date')"
   ]
  },
  {
   "cell_type": "code",
   "execution_count": 41,
   "metadata": {
    "collapsed": false
   },
   "outputs": [],
   "source": [
    "samsungbio = samsungbio.shift(1)"
   ]
  },
  {
   "cell_type": "code",
   "execution_count": 42,
   "metadata": {
    "collapsed": false,
    "scrolled": true
   },
   "outputs": [],
   "source": [
    "all_set = pd.concat([samsungbio, samsungbio_stock], axis=1)"
   ]
  },
  {
   "cell_type": "code",
   "execution_count": 43,
   "metadata": {
    "collapsed": false,
    "scrolled": true
   },
   "outputs": [],
   "source": [
    "all_set = all_set.dropna(axis=0)"
   ]
  },
  {
   "cell_type": "code",
   "execution_count": 44,
   "metadata": {
    "collapsed": true
   },
   "outputs": [],
   "source": [
    "import math"
   ]
  },
  {
   "cell_type": "code",
   "execution_count": 45,
   "metadata": {
    "collapsed": true
   },
   "outputs": [],
   "source": [
    "log_close = []\n",
    "for i in range(len(all_set.index)):\n",
    "    a = math.log(all_set['close'][i])\n",
    "    log_close.append(a)"
   ]
  },
  {
   "cell_type": "code",
   "execution_count": 46,
   "metadata": {
    "collapsed": false
   },
   "outputs": [],
   "source": [
    "all_set['log_close']=log_close"
   ]
  },
  {
   "cell_type": "code",
   "execution_count": 47,
   "metadata": {
    "collapsed": true
   },
   "outputs": [],
   "source": [
    "all_set['log_close_diff'] = all_set['log_close'].diff()"
   ]
  },
  {
   "cell_type": "code",
   "execution_count": 48,
   "metadata": {
    "collapsed": true
   },
   "outputs": [],
   "source": [
    "all_set = all_set[1:]"
   ]
  },
  {
   "cell_type": "code",
   "execution_count": 49,
   "metadata": {
    "collapsed": true
   },
   "outputs": [],
   "source": [
    "import matplotlib.pyplot as plt"
   ]
  },
  {
   "cell_type": "code",
   "execution_count": 50,
   "metadata": {
    "collapsed": true
   },
   "outputs": [],
   "source": [
    "all_set = pd.DataFrame(all_set)"
   ]
  },
  {
   "cell_type": "code",
   "execution_count": 51,
   "metadata": {
    "collapsed": false,
    "scrolled": false
   },
   "outputs": [],
   "source": [
    "from sklearn.preprocessing import StandardScaler\n",
    "stdscaler = StandardScaler()\n",
    "x_search = all_set[['search']].values.astype(float)\n",
    "std_search = stdscaler.fit_transform(x_search)"
   ]
  },
  {
   "cell_type": "code",
   "execution_count": 52,
   "metadata": {
    "collapsed": true
   },
   "outputs": [],
   "source": [
    "norm_log_close_diff = all_set[['log_close_diff']].values.astype(float)\n",
    "norm_log_close_diff = stdscaler.fit_transform(norm_log_close_diff)"
   ]
  },
  {
   "cell_type": "code",
   "execution_count": 53,
   "metadata": {
    "collapsed": true
   },
   "outputs": [],
   "source": [
    "all_set['std_search'] = std_search\n",
    "all_set['norm_log_close_diff'] = norm_log_close_diff"
   ]
  },
  {
   "cell_type": "code",
   "execution_count": 54,
   "metadata": {
    "collapsed": false
   },
   "outputs": [
    {
     "data": {
      "text/plain": [
       "<matplotlib.legend.Legend at 0x1a158b9908>"
      ]
     },
     "execution_count": 54,
     "metadata": {},
     "output_type": "execute_result"
    }
   ],
   "source": [
    "all_set['std_search'].plot()\n",
    "all_set['norm_log_close_diff'].plot()\n",
    "plt.legend(['std_search', 'norm_log_close_diff'])"
   ]
  },
  {
   "cell_type": "code",
   "execution_count": 55,
   "metadata": {
    "collapsed": false
   },
   "outputs": [
    {
     "data": {
      "image/png": "[encoded data removed]",
      "text/plain": [
       "<matplotlib.figure.Figure at 0x1a158b9be0>"
      ]
     },
     "metadata": {},
     "output_type": "display_data"
    }
   ],
   "source": [
    "plt.show()"
   ]
  },
  {
   "cell_type": "code",
   "execution_count": 56,
   "metadata": {
    "collapsed": false
   },
   "outputs": [
    {
     "data": {
      "text/plain": [
       "(-0.16062870481398484, 0.0030620828254033163)"
      ]
     },
     "execution_count": 56,
     "metadata": {},
     "output_type": "execute_result"
    }
   ],
   "source": [
    "from scipy.stats import pearsonr\n",
    "pearsonr(all_set['std_search'], all_set['norm_log_close_diff'])"
   ]
  },
  {
   "cell_type": "code",
   "execution_count": 57,
   "metadata": {
    "collapsed": false
   },
   "outputs": [
    {
     "data": {
      "text/html": [
       "<div>\n",
       "<style scoped>\n",
       "    .dataframe tbody tr th:only-of-type {\n",
       "        vertical-align: middle;\n",
       "    }\n",
       "\n",
       "    .dataframe tbody tr th {\n",
       "        vertical-align: top;\n",
       "    }\n",
       "\n",
       "    .dataframe thead th {\n",
       "        text-align: right;\n",
       "    }\n",
       "</style>\n",
       "<table border=\"1\" class=\"dataframe\">\n",
       "  <thead>\n",
       "    <tr style=\"text-align: right;\">\n",
       "      <th></th>\n",
       "      <th>search</th>\n",
       "      <th>open</th>\n",
       "      <th>high</th>\n",
       "      <th>low</th>\n",
       "      <th>close</th>\n",
       "      <th>volume</th>\n",
       "      <th>adj_ratio</th>\n",
       "      <th>log_close</th>\n",
       "      <th>log_close_diff</th>\n",
       "      <th>std_search</th>\n",
       "      <th>norm_log_close_diff</th>\n",
       "    </tr>\n",
       "  </thead>\n",
       "  <tbody>\n",
       "    <tr>\n",
       "      <th>search</th>\n",
       "      <td>1.000000</td>\n",
       "      <td>0.194242</td>\n",
       "      <td>0.193765</td>\n",
       "      <td>0.183328</td>\n",
       "      <td>0.184681</td>\n",
       "      <td>0.477026</td>\n",
       "      <td>NaN</td>\n",
       "      <td>0.185902</td>\n",
       "      <td>-0.160629</td>\n",
       "      <td>1.000000</td>\n",
       "      <td>-0.160629</td>\n",
       "    </tr>\n",
       "    <tr>\n",
       "      <th>open</th>\n",
       "      <td>0.194242</td>\n",
       "      <td>1.000000</td>\n",
       "      <td>0.998532</td>\n",
       "      <td>0.999043</td>\n",
       "      <td>0.997532</td>\n",
       "      <td>-0.092883</td>\n",
       "      <td>NaN</td>\n",
       "      <td>0.987837</td>\n",
       "      <td>-0.005117</td>\n",
       "      <td>0.194242</td>\n",
       "      <td>-0.005117</td>\n",
       "    </tr>\n",
       "    <tr>\n",
       "      <th>high</th>\n",
       "      <td>0.193765</td>\n",
       "      <td>0.998532</td>\n",
       "      <td>1.000000</td>\n",
       "      <td>0.998620</td>\n",
       "      <td>0.999073</td>\n",
       "      <td>-0.075151</td>\n",
       "      <td>NaN</td>\n",
       "      <td>0.989462</td>\n",
       "      <td>0.032154</td>\n",
       "      <td>0.193765</td>\n",
       "      <td>0.032154</td>\n",
       "    </tr>\n",
       "    <tr>\n",
       "      <th>low</th>\n",
       "      <td>0.183328</td>\n",
       "      <td>0.999043</td>\n",
       "      <td>0.998620</td>\n",
       "      <td>1.000000</td>\n",
       "      <td>0.998968</td>\n",
       "      <td>-0.104204</td>\n",
       "      <td>NaN</td>\n",
       "      <td>0.988961</td>\n",
       "      <td>0.021761</td>\n",
       "      <td>0.183328</td>\n",
       "      <td>0.021761</td>\n",
       "    </tr>\n",
       "    <tr>\n",
       "      <th>close</th>\n",
       "      <td>0.184681</td>\n",
       "      <td>0.997532</td>\n",
       "      <td>0.999073</td>\n",
       "      <td>0.998968</td>\n",
       "      <td>1.000000</td>\n",
       "      <td>-0.089333</td>\n",
       "      <td>NaN</td>\n",
       "      <td>0.990091</td>\n",
       "      <td>0.054780</td>\n",
       "      <td>0.184681</td>\n",
       "      <td>0.054780</td>\n",
       "    </tr>\n",
       "    <tr>\n",
       "      <th>volume</th>\n",
       "      <td>0.477026</td>\n",
       "      <td>-0.092883</td>\n",
       "      <td>-0.075151</td>\n",
       "      <td>-0.104204</td>\n",
       "      <td>-0.089333</td>\n",
       "      <td>1.000000</td>\n",
       "      <td>NaN</td>\n",
       "      <td>-0.085867</td>\n",
       "      <td>0.076995</td>\n",
       "      <td>0.477026</td>\n",
       "      <td>0.076995</td>\n",
       "    </tr>\n",
       "    <tr>\n",
       "      <th>adj_ratio</th>\n",
       "      <td>NaN</td>\n",
       "      <td>NaN</td>\n",
       "      <td>NaN</td>\n",
       "      <td>NaN</td>\n",
       "      <td>NaN</td>\n",
       "      <td>NaN</td>\n",
       "      <td>NaN</td>\n",
       "      <td>NaN</td>\n",
       "      <td>NaN</td>\n",
       "      <td>NaN</td>\n",
       "      <td>NaN</td>\n",
       "    </tr>\n",
       "    <tr>\n",
       "      <th>log_close</th>\n",
       "      <td>0.185902</td>\n",
       "      <td>0.987837</td>\n",
       "      <td>0.989462</td>\n",
       "      <td>0.988961</td>\n",
       "      <td>0.990091</td>\n",
       "      <td>-0.085867</td>\n",
       "      <td>NaN</td>\n",
       "      <td>1.000000</td>\n",
       "      <td>0.059937</td>\n",
       "      <td>0.185902</td>\n",
       "      <td>0.059937</td>\n",
       "    </tr>\n",
       "    <tr>\n",
       "      <th>log_close_diff</th>\n",
       "      <td>-0.160629</td>\n",
       "      <td>-0.005117</td>\n",
       "      <td>0.032154</td>\n",
       "      <td>0.021761</td>\n",
       "      <td>0.054780</td>\n",
       "      <td>0.076995</td>\n",
       "      <td>NaN</td>\n",
       "      <td>0.059937</td>\n",
       "      <td>1.000000</td>\n",
       "      <td>-0.160629</td>\n",
       "      <td>1.000000</td>\n",
       "    </tr>\n",
       "    <tr>\n",
       "      <th>std_search</th>\n",
       "      <td>1.000000</td>\n",
       "      <td>0.194242</td>\n",
       "      <td>0.193765</td>\n",
       "      <td>0.183328</td>\n",
       "      <td>0.184681</td>\n",
       "      <td>0.477026</td>\n",
       "      <td>NaN</td>\n",
       "      <td>0.185902</td>\n",
       "      <td>-0.160629</td>\n",
       "      <td>1.000000</td>\n",
       "      <td>-0.160629</td>\n",
       "    </tr>\n",
       "    <tr>\n",
       "      <th>norm_log_close_diff</th>\n",
       "      <td>-0.160629</td>\n",
       "      <td>-0.005117</td>\n",
       "      <td>0.032154</td>\n",
       "      <td>0.021761</td>\n",
       "      <td>0.054780</td>\n",
       "      <td>0.076995</td>\n",
       "      <td>NaN</td>\n",
       "      <td>0.059937</td>\n",
       "      <td>1.000000</td>\n",
       "      <td>-0.160629</td>\n",
       "      <td>1.000000</td>\n",
       "    </tr>\n",
       "  </tbody>\n",
       "</table>\n",
       "</div>"
      ],
      "text/plain": [
       "                       search      open      high       low     close  \\\n",
       "search               1.000000  0.194242  0.193765  0.183328  0.184681   \n",
       "open                 0.194242  1.000000  0.998532  0.999043  0.997532   \n",
       "high                 0.193765  0.998532  1.000000  0.998620  0.999073   \n",
       "low                  0.183328  0.999043  0.998620  1.000000  0.998968   \n",
       "close                0.184681  0.997532  0.999073  0.998968  1.000000   \n",
       "volume               0.477026 -0.092883 -0.075151 -0.104204 -0.089333   \n",
       "adj_ratio                 NaN       NaN       NaN       NaN       NaN   \n",
       "log_close            0.185902  0.987837  0.989462  0.988961  0.990091   \n",
       "log_close_diff      -0.160629 -0.005117  0.032154  0.021761  0.054780   \n",
       "std_search           1.000000  0.194242  0.193765  0.183328  0.184681   \n",
       "norm_log_close_diff -0.160629 -0.005117  0.032154  0.021761  0.054780   \n",
       "\n",
       "                       volume  adj_ratio  log_close  log_close_diff  \\\n",
       "search               0.477026        NaN   0.185902       -0.160629   \n",
       "open                -0.092883        NaN   0.987837       -0.005117   \n",
       "high                -0.075151        NaN   0.989462        0.032154   \n",
       "low                 -0.104204        NaN   0.988961        0.021761   \n",
       "close               -0.089333        NaN   0.990091        0.054780   \n",
       "volume               1.000000        NaN  -0.085867        0.076995   \n",
       "adj_ratio                 NaN        NaN        NaN             NaN   \n",
       "log_close           -0.085867        NaN   1.000000        0.059937   \n",
       "log_close_diff       0.076995        NaN   0.059937        1.000000   \n",
       "std_search           0.477026        NaN   0.185902       -0.160629   \n",
       "norm_log_close_diff  0.076995        NaN   0.059937        1.000000   \n",
       "\n",
       "                     std_search  norm_log_close_diff  \n",
       "search                 1.000000            -0.160629  \n",
       "open                   0.194242            -0.005117  \n",
       "high                   0.193765             0.032154  \n",
       "low                    0.183328             0.021761  \n",
       "close                  0.184681             0.054780  \n",
       "volume                 0.477026             0.076995  \n",
       "adj_ratio                   NaN                  NaN  \n",
       "log_close              0.185902             0.059937  \n",
       "log_close_diff        -0.160629             1.000000  \n",
       "std_search             1.000000            -0.160629  \n",
       "norm_log_close_diff   -0.160629             1.000000  "
      ]
     },
     "execution_count": 57,
     "metadata": {},
     "output_type": "execute_result"
    }
   ],
   "source": [
    "all_set.corr()"
   ]
  },
  {
   "cell_type": "code",
   "execution_count": null,
   "metadata": {
    "collapsed": true
   },
   "outputs": [],
   "source": [
    ""
   ]
  },
  {
   "cell_type": "code",
   "execution_count": null,
   "metadata": {
    "collapsed": true
   },
   "outputs": [],
   "source": [
    ""
   ]
  }
 ],
 "metadata": {
  "anaconda-cloud": {},
  "kernelspec": {
   "display_name": "Python [conda root]",
   "language": "python",
   "name": "conda-root-py"
  },
  "language_info": {
   "codemirror_mode": {
    "name": "ipython",
    "version": 3.0
   },
   "file_extension": ".py",
   "mimetype": "text/x-python",
   "name": "python",
   "nbconvert_exporter": "python",
   "pygments_lexer": "ipython3",
   "version": "3.5.2"
  }
 },
 "nbformat": 4,
 "nbformat_minor": 0
}