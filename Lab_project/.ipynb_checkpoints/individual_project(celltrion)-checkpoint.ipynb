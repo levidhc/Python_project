{
 "cells": [
  {
   "cell_type": "code",
   "execution_count": 49,
   "metadata": {
    "collapsed": true
   },
   "outputs": [],
   "source": [
    "import pandas as pd\n",
    "from antQuant.utils import DataManager"
   ]
  },
  {
   "cell_type": "code",
   "execution_count": 50,
   "metadata": {
    "collapsed": true
   },
   "outputs": [],
   "source": [
    "celltrion = DataManager()\n",
    "celltrion_stock = celltrion.get_daily_ohlcv('068270')"
   ]
  },
  {
   "cell_type": "code",
   "execution_count": 51,
   "metadata": {
    "collapsed": false
   },
   "outputs": [
    {
     "data": {
      "text/plain": [
       "2596"
      ]
     },
     "execution_count": 51,
     "metadata": {},
     "output_type": "execute_result"
    }
   ],
   "source": [
    "celltrion_stock.index.get_loc('2016-01-04')"
   ]
  },
  {
   "cell_type": "code",
   "execution_count": 52,
   "metadata": {
    "collapsed": false
   },
   "outputs": [],
   "source": [
    "celltrion_stock = celltrion_stock[celltrion_stock.index.get_loc('2016-01-04'):]"
   ]
  },
  {
   "cell_type": "code",
   "execution_count": 53,
   "metadata": {
    "collapsed": false
   },
   "outputs": [],
   "source": [
    "samsung = pd.read_excel('datalab_samsung.xlsx', skiprows=6)\n",
    "samsungbio = pd.read_excel('datalab_samsungbio.xlsx',skiprows=6)\n",
    "hynix = pd.read_excel('datalab_skhynix.xlsx',skiprows=6)\n",
    "celltrion = pd.read_excel('datalab_celltrion.xlsx',skiprows=6)\n",
    "hyundai = pd.read_excel('datalab_hyundai.xlsx',skiprows=6)"
   ]
  },
  {
   "cell_type": "code",
   "execution_count": 54,
   "metadata": {
    "collapsed": true
   },
   "outputs": [],
   "source": [
    "for df in [samsung, samsungbio, hynix, celltrion, hyundai]:\n",
    "    df.columns = ['date', 'search']\n",
    "    df.date = pd.to_datetime(df.date)"
   ]
  },
  {
   "cell_type": "code",
   "execution_count": 55,
   "metadata": {
    "collapsed": false
   },
   "outputs": [],
   "source": [
    "celltrion = celltrion.set_index('date')"
   ]
  },
  {
   "cell_type": "code",
   "execution_count": 56,
   "metadata": {
    "collapsed": true
   },
   "outputs": [],
   "source": [
    "celltrion = celltrion.shift(1)"
   ]
  },
  {
   "cell_type": "code",
   "execution_count": 57,
   "metadata": {
    "collapsed": false,
    "scrolled": true
   },
   "outputs": [],
   "source": [
    "all_set = pd.concat([celltrion, celltrion_stock], axis=1)"
   ]
  },
  {
   "cell_type": "code",
   "execution_count": 58,
   "metadata": {
    "collapsed": false,
    "scrolled": true
   },
   "outputs": [],
   "source": [
    "all_set = all_set.dropna(axis=0)"
   ]
  },
  {
   "cell_type": "code",
   "execution_count": 59,
   "metadata": {
    "collapsed": true
   },
   "outputs": [],
   "source": [
    "import math"
   ]
  },
  {
   "cell_type": "code",
   "execution_count": 60,
   "metadata": {
    "collapsed": true
   },
   "outputs": [],
   "source": [
    "log_close = []\n",
    "for i in range(len(all_set.index)):\n",
    "    a = math.log(all_set['close'][i])\n",
    "    log_close.append(a)"
   ]
  },
  {
   "cell_type": "code",
   "execution_count": 61,
   "metadata": {
    "collapsed": false
   },
   "outputs": [],
   "source": [
    "all_set['log_close']=log_close"
   ]
  },
  {
   "cell_type": "code",
   "execution_count": 62,
   "metadata": {
    "collapsed": true
   },
   "outputs": [],
   "source": [
    "all_set['log_close_diff'] = all_set['log_close'].diff()"
   ]
  },
  {
   "cell_type": "code",
   "execution_count": 63,
   "metadata": {
    "collapsed": true
   },
   "outputs": [],
   "source": [
    "all_set = all_set[1:]"
   ]
  },
  {
   "cell_type": "code",
   "execution_count": 64,
   "metadata": {
    "collapsed": true
   },
   "outputs": [],
   "source": [
    "import matplotlib.pyplot as plt"
   ]
  },
  {
   "cell_type": "code",
   "execution_count": 65,
   "metadata": {
    "collapsed": true
   },
   "outputs": [],
   "source": [
    "all_set = pd.DataFrame(all_set)"
   ]
  },
  {
   "cell_type": "code",
   "execution_count": 66,
   "metadata": {
    "collapsed": false,
    "scrolled": false
   },
   "outputs": [],
   "source": [
    "from sklearn.preprocessing import StandardScaler\n",
    "stdscaler = StandardScaler()\n",
    "x_search = all_set[['search']].values.astype(float)\n",
    "std_search = stdscaler.fit_transform(x_search)"
   ]
  },
  {
   "cell_type": "code",
   "execution_count": 67,
   "metadata": {
    "collapsed": true
   },
   "outputs": [],
   "source": [
    "norm_log_close_diff = all_set[['log_close_diff']].values.astype(float)\n",
    "norm_log_close_diff = stdscaler.fit_transform(norm_log_close_diff)"
   ]
  },
  {
   "cell_type": "code",
   "execution_count": 68,
   "metadata": {
    "collapsed": true
   },
   "outputs": [],
   "source": [
    "all_set['std_search'] = std_search\n",
    "all_set['norm_log_close_diff'] = norm_log_close_diff"
   ]
  },
  {
   "cell_type": "code",
   "execution_count": 69,
   "metadata": {
    "collapsed": false
   },
   "outputs": [
    {
     "data": {
      "text/plain": [
       "<matplotlib.legend.Legend at 0x1a1515a668>"
      ]
     },
     "execution_count": 69,
     "metadata": {},
     "output_type": "execute_result"
    }
   ],
   "source": [
    "all_set['std_search'].plot()\n",
    "all_set['norm_log_close_diff'].plot()\n",
    "plt.legend(['std_search', 'norm_log_close_diff'])"
   ]
  },
  {
   "cell_type": "code",
   "execution_count": 70,
   "metadata": {
    "collapsed": false
   },
   "outputs": [
    {
     "data": {
      "image/png": "[encoded data removed]",
      "text/plain": [
       "<matplotlib.figure.Figure at 0x1a1515a278>"
      ]
     },
     "metadata": {},
     "output_type": "display_data"
    }
   ],
   "source": [
    "plt.show()"
   ]
  },
  {
   "cell_type": "code",
   "execution_count": 71,
   "metadata": {
    "collapsed": false
   },
   "outputs": [
    {
     "data": {
      "text/plain": [
       "(-0.05054038396943356, 0.23710429489259247)"
      ]
     },
     "execution_count": 71,
     "metadata": {},
     "output_type": "execute_result"
    }
   ],
   "source": [
    "from scipy.stats import pearsonr\n",
    "pearsonr(all_set['std_search'], all_set['norm_log_close_diff'])"
   ]
  },
  {
   "cell_type": "code",
   "execution_count": 72,
   "metadata": {
    "collapsed": false
   },
   "outputs": [
    {
     "data": {
      "text/html": [
       "<div>\n",
       "<style scoped>\n",
       "    .dataframe tbody tr th:only-of-type {\n",
       "        vertical-align: middle;\n",
       "    }\n",
       "\n",
       "    .dataframe tbody tr th {\n",
       "        vertical-align: top;\n",
       "    }\n",
       "\n",
       "    .dataframe thead th {\n",
       "        text-align: right;\n",
       "    }\n",
       "</style>\n",
       "<table border=\"1\" class=\"dataframe\">\n",
       "  <thead>\n",
       "    <tr style=\"text-align: right;\">\n",
       "      <th></th>\n",
       "      <th>search</th>\n",
       "      <th>open</th>\n",
       "      <th>high</th>\n",
       "      <th>low</th>\n",
       "      <th>close</th>\n",
       "      <th>volume</th>\n",
       "      <th>adj_ratio</th>\n",
       "      <th>log_close</th>\n",
       "      <th>log_close_diff</th>\n",
       "      <th>std_search</th>\n",
       "      <th>norm_log_close_diff</th>\n",
       "    </tr>\n",
       "  </thead>\n",
       "  <tbody>\n",
       "    <tr>\n",
       "      <th>search</th>\n",
       "      <td>1.000000</td>\n",
       "      <td>0.644199</td>\n",
       "      <td>0.646651</td>\n",
       "      <td>0.636763</td>\n",
       "      <td>0.637521</td>\n",
       "      <td>0.554222</td>\n",
       "      <td>-0.006619</td>\n",
       "      <td>0.646417</td>\n",
       "      <td>-0.050540</td>\n",
       "      <td>1.000000</td>\n",
       "      <td>-0.050540</td>\n",
       "    </tr>\n",
       "    <tr>\n",
       "      <th>open</th>\n",
       "      <td>0.644199</td>\n",
       "      <td>1.000000</td>\n",
       "      <td>0.998394</td>\n",
       "      <td>0.998708</td>\n",
       "      <td>0.996524</td>\n",
       "      <td>0.527846</td>\n",
       "      <td>-0.000098</td>\n",
       "      <td>0.985878</td>\n",
       "      <td>0.018810</td>\n",
       "      <td>0.644199</td>\n",
       "      <td>0.018810</td>\n",
       "    </tr>\n",
       "    <tr>\n",
       "      <th>high</th>\n",
       "      <td>0.646651</td>\n",
       "      <td>0.998394</td>\n",
       "      <td>1.000000</td>\n",
       "      <td>0.998390</td>\n",
       "      <td>0.998649</td>\n",
       "      <td>0.547543</td>\n",
       "      <td>0.000052</td>\n",
       "      <td>0.987714</td>\n",
       "      <td>0.057495</td>\n",
       "      <td>0.646651</td>\n",
       "      <td>0.057495</td>\n",
       "    </tr>\n",
       "    <tr>\n",
       "      <th>low</th>\n",
       "      <td>0.636763</td>\n",
       "      <td>0.998708</td>\n",
       "      <td>0.998390</td>\n",
       "      <td>1.000000</td>\n",
       "      <td>0.998569</td>\n",
       "      <td>0.514095</td>\n",
       "      <td>-0.000703</td>\n",
       "      <td>0.987816</td>\n",
       "      <td>0.049673</td>\n",
       "      <td>0.636763</td>\n",
       "      <td>0.049673</td>\n",
       "    </tr>\n",
       "    <tr>\n",
       "      <th>close</th>\n",
       "      <td>0.637521</td>\n",
       "      <td>0.996524</td>\n",
       "      <td>0.998649</td>\n",
       "      <td>0.998569</td>\n",
       "      <td>1.000000</td>\n",
       "      <td>0.532272</td>\n",
       "      <td>0.001581</td>\n",
       "      <td>0.988947</td>\n",
       "      <td>0.088385</td>\n",
       "      <td>0.637521</td>\n",
       "      <td>0.088385</td>\n",
       "    </tr>\n",
       "    <tr>\n",
       "      <th>volume</th>\n",
       "      <td>0.554222</td>\n",
       "      <td>0.527846</td>\n",
       "      <td>0.547543</td>\n",
       "      <td>0.514095</td>\n",
       "      <td>0.532272</td>\n",
       "      <td>1.000000</td>\n",
       "      <td>0.060592</td>\n",
       "      <td>0.554447</td>\n",
       "      <td>0.136204</td>\n",
       "      <td>0.554222</td>\n",
       "      <td>0.136204</td>\n",
       "    </tr>\n",
       "    <tr>\n",
       "      <th>adj_ratio</th>\n",
       "      <td>-0.006619</td>\n",
       "      <td>-0.000098</td>\n",
       "      <td>0.000052</td>\n",
       "      <td>-0.000703</td>\n",
       "      <td>0.001581</td>\n",
       "      <td>0.060592</td>\n",
       "      <td>1.000000</td>\n",
       "      <td>0.006362</td>\n",
       "      <td>0.063236</td>\n",
       "      <td>-0.006619</td>\n",
       "      <td>0.063236</td>\n",
       "    </tr>\n",
       "    <tr>\n",
       "      <th>log_close</th>\n",
       "      <td>0.646417</td>\n",
       "      <td>0.985878</td>\n",
       "      <td>0.987714</td>\n",
       "      <td>0.987816</td>\n",
       "      <td>0.988947</td>\n",
       "      <td>0.554447</td>\n",
       "      <td>0.006362</td>\n",
       "      <td>1.000000</td>\n",
       "      <td>0.096827</td>\n",
       "      <td>0.646417</td>\n",
       "      <td>0.096827</td>\n",
       "    </tr>\n",
       "    <tr>\n",
       "      <th>log_close_diff</th>\n",
       "      <td>-0.050540</td>\n",
       "      <td>0.018810</td>\n",
       "      <td>0.057495</td>\n",
       "      <td>0.049673</td>\n",
       "      <td>0.088385</td>\n",
       "      <td>0.136204</td>\n",
       "      <td>0.063236</td>\n",
       "      <td>0.096827</td>\n",
       "      <td>1.000000</td>\n",
       "      <td>-0.050540</td>\n",
       "      <td>1.000000</td>\n",
       "    </tr>\n",
       "    <tr>\n",
       "      <th>std_search</th>\n",
       "      <td>1.000000</td>\n",
       "      <td>0.644199</td>\n",
       "      <td>0.646651</td>\n",
       "      <td>0.636763</td>\n",
       "      <td>0.637521</td>\n",
       "      <td>0.554222</td>\n",
       "      <td>-0.006619</td>\n",
       "      <td>0.646417</td>\n",
       "      <td>-0.050540</td>\n",
       "      <td>1.000000</td>\n",
       "      <td>-0.050540</td>\n",
       "    </tr>\n",
       "    <tr>\n",
       "      <th>norm_log_close_diff</th>\n",
       "      <td>-0.050540</td>\n",
       "      <td>0.018810</td>\n",
       "      <td>0.057495</td>\n",
       "      <td>0.049673</td>\n",
       "      <td>0.088385</td>\n",
       "      <td>0.136204</td>\n",
       "      <td>0.063236</td>\n",
       "      <td>0.096827</td>\n",
       "      <td>1.000000</td>\n",
       "      <td>-0.050540</td>\n",
       "      <td>1.000000</td>\n",
       "    </tr>\n",
       "  </tbody>\n",
       "</table>\n",
       "</div>"
      ],
      "text/plain": [
       "                       search      open      high       low     close  \\\n",
       "search               1.000000  0.644199  0.646651  0.636763  0.637521   \n",
       "open                 0.644199  1.000000  0.998394  0.998708  0.996524   \n",
       "high                 0.646651  0.998394  1.000000  0.998390  0.998649   \n",
       "low                  0.636763  0.998708  0.998390  1.000000  0.998569   \n",
       "close                0.637521  0.996524  0.998649  0.998569  1.000000   \n",
       "volume               0.554222  0.527846  0.547543  0.514095  0.532272   \n",
       "adj_ratio           -0.006619 -0.000098  0.000052 -0.000703  0.001581   \n",
       "log_close            0.646417  0.985878  0.987714  0.987816  0.988947   \n",
       "log_close_diff      -0.050540  0.018810  0.057495  0.049673  0.088385   \n",
       "std_search           1.000000  0.644199  0.646651  0.636763  0.637521   \n",
       "norm_log_close_diff -0.050540  0.018810  0.057495  0.049673  0.088385   \n",
       "\n",
       "                       volume  adj_ratio  log_close  log_close_diff  \\\n",
       "search               0.554222  -0.006619   0.646417       -0.050540   \n",
       "open                 0.527846  -0.000098   0.985878        0.018810   \n",
       "high                 0.547543   0.000052   0.987714        0.057495   \n",
       "low                  0.514095  -0.000703   0.987816        0.049673   \n",
       "close                0.532272   0.001581   0.988947        0.088385   \n",
       "volume               1.000000   0.060592   0.554447        0.136204   \n",
       "adj_ratio            0.060592   1.000000   0.006362        0.063236   \n",
       "log_close            0.554447   0.006362   1.000000        0.096827   \n",
       "log_close_diff       0.136204   0.063236   0.096827        1.000000   \n",
       "std_search           0.554222  -0.006619   0.646417       -0.050540   \n",
       "norm_log_close_diff  0.136204   0.063236   0.096827        1.000000   \n",
       "\n",
       "                     std_search  norm_log_close_diff  \n",
       "search                 1.000000            -0.050540  \n",
       "open                   0.644199             0.018810  \n",
       "high                   0.646651             0.057495  \n",
       "low                    0.636763             0.049673  \n",
       "close                  0.637521             0.088385  \n",
       "volume                 0.554222             0.136204  \n",
       "adj_ratio             -0.006619             0.063236  \n",
       "log_close              0.646417             0.096827  \n",
       "log_close_diff        -0.050540             1.000000  \n",
       "std_search             1.000000            -0.050540  \n",
       "norm_log_close_diff   -0.050540             1.000000  "
      ]
     },
     "execution_count": 72,
     "metadata": {},
     "output_type": "execute_result"
    }
   ],
   "source": [
    "all_set.corr()"
   ]
  },
  {
   "cell_type": "code",
   "execution_count": null,
   "metadata": {
    "collapsed": true
   },
   "outputs": [],
   "source": []
  },
  {
   "cell_type": "code",
   "execution_count": null,
   "metadata": {
    "collapsed": true
   },
   "outputs": [],
   "source": []
  }
 ],
 "metadata": {
  "anaconda-cloud": {},
  "kernelspec": {
   "display_name": "Python [conda root]",
   "language": "python",
   "name": "conda-root-py"
  },
  "language_info": {
   "codemirror_mode": {
    "name": "ipython",
    "version": 3
   },
   "file_extension": ".py",
   "mimetype": "text/x-python",
   "name": "python",
   "nbconvert_exporter": "python",
   "pygments_lexer": "ipython3",
   "version": "3.5.2"
  }
 },
 "nbformat": 4,
 "nbformat_minor": 0
}
